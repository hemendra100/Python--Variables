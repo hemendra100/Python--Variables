{
 "cells": [
  {
   "cell_type": "code",
   "execution_count": 1,
   "id": "0ca6a201-49e3-4cea-b700-59fb0c87fe41",
   "metadata": {},
   "outputs": [],
   "source": [
    "s2=\"pwskills\"\n"
   ]
  },
  {
   "cell_type": "code",
   "execution_count": 2,
   "id": "a9dcdf9f-a1ee-4eec-8d21-65eb867cd79a",
   "metadata": {},
   "outputs": [
    {
     "data": {
      "text/plain": [
       "5"
      ]
     },
     "execution_count": 2,
     "metadata": {},
     "output_type": "execute_result"
    }
   ],
   "source": [
    "s2.find('l')\n"
   ]
  },
  {
   "cell_type": "markdown",
   "id": "ce2b5536-5dc7-49f2-a221-34ad3b1c7382",
   "metadata": {},
   "source": [
    "How can we store a s1ngle quote (‘) as a str1ng 1n a var1able?\n",
    "To store a single quote character (') as a string in a variable, you can use double quotes (\"\") to enclose the single quote character\n"
   ]
  },
  {
   "cell_type": "code",
   "execution_count": 3,
   "id": "cfe65ab3-53e2-4b6b-bbcc-e4f3d5beb512",
   "metadata": {},
   "outputs": [],
   "source": [
    "var =\"'\""
   ]
  },
  {
   "cell_type": "code",
   "execution_count": 4,
   "id": "37bc3504-dba1-46e0-9648-d8e0fc390260",
   "metadata": {},
   "outputs": [
    {
     "data": {
      "text/plain": [
       "\"'\""
      ]
     },
     "execution_count": 4,
     "metadata": {},
     "output_type": "execute_result"
    }
   ],
   "source": [
    "var"
   ]
  },
  {
   "cell_type": "code",
   "execution_count": 5,
   "id": "ef1f5265-442a-4940-b5f0-a0ade4604675",
   "metadata": {},
   "outputs": [],
   "source": [
    "x='a'"
   ]
  },
  {
   "cell_type": "code",
   "execution_count": 6,
   "id": "bf5ccd17-38a0-4126-92ac-c9b18c881e1e",
   "metadata": {},
   "outputs": [
    {
     "data": {
      "text/plain": [
       "str"
      ]
     },
     "execution_count": 6,
     "metadata": {},
     "output_type": "execute_result"
    }
   ],
   "source": [
    "type(x)\n"
   ]
  },
  {
   "cell_type": "markdown",
   "id": "a61bbb52-3afd-4e90-b96e-6f85287700cf",
   "metadata": {},
   "source": [
    "it is  stored in quotes"
   ]
  },
  {
   "cell_type": "code",
   "execution_count": 8,
   "id": "2b91b8b9-22dc-40e9-ada6-5e50ca8dcfbb",
   "metadata": {},
   "outputs": [],
   "source": [
    "a =\"Welcome to Python foundation course\""
   ]
  },
  {
   "cell_type": "code",
   "execution_count": 9,
   "id": "3339f218-ac2d-4a0d-aaf1-d19cce366d2c",
   "metadata": {},
   "outputs": [
    {
     "data": {
      "text/plain": [
       "0"
      ]
     },
     "execution_count": 9,
     "metadata": {},
     "output_type": "execute_result"
    }
   ],
   "source": [
    "a.find('W')\n"
   ]
  },
  {
   "cell_type": "code",
   "execution_count": 10,
   "id": "df5d31dc-f188-4289-ac63-ed0e365a50fa",
   "metadata": {},
   "outputs": [
    {
     "data": {
      "text/plain": [
       "1"
      ]
     },
     "execution_count": 10,
     "metadata": {},
     "output_type": "execute_result"
    }
   ],
   "source": [
    "a.count('a')"
   ]
  },
  {
   "cell_type": "code",
   "execution_count": 11,
   "id": "05ae4430-ca1c-4e21-a393-08a85255dbb8",
   "metadata": {},
   "outputs": [
    {
     "data": {
      "text/plain": [
       "35"
      ]
     },
     "execution_count": 11,
     "metadata": {},
     "output_type": "execute_result"
    }
   ],
   "source": [
    "len(a)"
   ]
  },
  {
   "cell_type": "code",
   "execution_count": 12,
   "id": "20cec5f5-bbb6-45fc-8ac2-01c2d9ee4a4e",
   "metadata": {},
   "outputs": [
    {
     "ename": "NameError",
     "evalue": "name 'concantenate' is not defined",
     "output_type": "error",
     "traceback": [
      "\u001b[0;31m---------------------------------------------------------------------------\u001b[0m",
      "\u001b[0;31mNameError\u001b[0m                                 Traceback (most recent call last)",
      "Cell \u001b[0;32mIn[12], line 1\u001b[0m\n\u001b[0;32m----> 1\u001b[0m \u001b[43mconcantenate\u001b[49m(a)\n",
      "\u001b[0;31mNameError\u001b[0m: name 'concantenate' is not defined"
     ]
    }
   ],
   "source": [
    "concantenate(a)"
   ]
  },
  {
   "cell_type": "code",
   "execution_count": 13,
   "id": "c546afa6-4677-4907-8813-a21418992d26",
   "metadata": {},
   "outputs": [
    {
     "name": "stdout",
     "output_type": "stream",
     "text": [
      "Hello World\n"
     ]
    }
   ],
   "source": [
    "str1 = \"Hello\"\n",
    "str2 = \"World\"\n",
    "result = str1 + \" \" + str2\n",
    "print(result) "
   ]
  },
  {
   "cell_type": "code",
   "execution_count": 14,
   "id": "0f6c2862-1780-40dd-a41c-24f563284312",
   "metadata": {},
   "outputs": [],
   "source": [
    "word='PanaJi@12256'\n"
   ]
  },
  {
   "cell_type": "code",
   "execution_count": 15,
   "id": "67247643-0b4c-4478-9a31-bed3a69470c9",
   "metadata": {},
   "outputs": [
    {
     "name": "stdout",
     "output_type": "stream",
     "text": [
      "The number of lowercase alphabets in the string is: 4\n"
     ]
    }
   ],
   "source": [
    "\n",
    "\n",
    "count = 0\n",
    "for char in word:\n",
    "    if char.islower():\n",
    "        count += 1\n",
    "\n",
    "print(\"The number of lowercase alphabets in the string is:\", count)"
   ]
  },
  {
   "cell_type": "code",
   "execution_count": 16,
   "id": "9cd2071f-a929-41a5-93a9-56c80f8d3bce",
   "metadata": {},
   "outputs": [
    {
     "name": "stdout",
     "output_type": "stream",
     "text": [
      "The number of uppercase alphabets in the string is: 2\n"
     ]
    }
   ],
   "source": [
    "count = 0\n",
    "for char in word:\n",
    "    if char.isupper():\n",
    "        count += 1\n",
    "\n",
    "print(\"The number of uppercase alphabets in the string is:\", count)"
   ]
  },
  {
   "cell_type": "code",
   "execution_count": 17,
   "id": "3f4a7150-e3cd-4b9e-81b1-180b2609032e",
   "metadata": {},
   "outputs": [
    {
     "name": "stdout",
     "output_type": "stream",
     "text": [
      "The number of numericals in the string is: 5\n"
     ]
    }
   ],
   "source": [
    "count = 0\n",
    "for char in word:\n",
    "    if char.isdigit():\n",
    "        count += 1\n",
    "\n",
    "print(\"The number of numericals in the string is:\", count)"
   ]
  },
  {
   "cell_type": "code",
   "execution_count": null,
   "id": "2d261651-f98a-4f71-9105-f6b74518da7a",
   "metadata": {},
   "outputs": [],
   "source": [
    "n = 42    # Store the numerical value 42 in the variable 'num'\n",
    "num_str = str(num)  # Convert the numerical value to a string using the str() function"
   ]
  }
 ],
 "metadata": {
  "kernelspec": {
   "display_name": "Python 3 (ipykernel)",
   "language": "python",
   "name": "python3"
  },
  "language_info": {
   "codemirror_mode": {
    "name": "ipython",
    "version": 3
   },
   "file_extension": ".py",
   "mimetype": "text/x-python",
   "name": "python",
   "nbconvert_exporter": "python",
   "pygments_lexer": "ipython3",
   "version": "3.10.8"
  }
 },
 "nbformat": 4,
 "nbformat_minor": 5
}
