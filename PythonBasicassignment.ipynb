{
 "cells": [
  {
   "cell_type": "markdown",
   "id": "d36e1e1b-a180-46f0-a5ec-6527089354a5",
   "metadata": {},
   "source": [
    "Write all the conventions being followed while declaring a variable. in Python\n",
    "\n",
    "Use lowercase letters: Variable names should be written in lowercase letters.\n",
    "\n",
    "Use underscores for multiple words: If you need to use multiple words in a variable name, separate them with underscores. For example, my_variable instead of myVariable.\n",
    "\n",
    "Don't use reserved words: Avoid using Python's reserved words, such as and, if, else, while, etc. as variable names.\n",
    "Variable names should not start with a number\n"
   ]
  },
  {
   "cell_type": "markdown",
   "id": "1a84b351-c838-40c1-b1e6-d54fd9b1c32e",
   "metadata": {},
   "source": [
    "Variable names should not start with a number\n",
    " will get a syntax error"
   ]
  },
  {
   "cell_type": "markdown",
   "id": "d1dd6fa6-2ee6-4c85-bf38-305e0edc425a",
   "metadata": {},
   "source": [
    "Can we actually declare a string as a variable name?\n",
    "Yes, it is possible to declare a string as a variable name in Python"
   ]
  },
  {
   "cell_type": "code",
   "execution_count": null,
   "id": "d6a237d9-1979-4e06-9c1b-1503642d28f8",
   "metadata": {},
   "outputs": [],
   "source": []
  },
  {
   "cell_type": "markdown",
   "id": "a8348d24-fd8a-41a7-a6c0-1876b307ba22",
   "metadata": {},
   "source": [
    "Is it possible for us to declare “_” as a variable? If so, then write an example of it.\n"
   ]
  },
  {
   "cell_type": "code",
   "execution_count": null,
   "id": "ed1e9bb8-3d5c-4190-9275-51afd54811cc",
   "metadata": {},
   "outputs": [],
   "source": [
    "_=20\n",
    "print(_)"
   ]
  },
  {
   "cell_type": "code",
   "execution_count": null,
   "id": "acda833d-01e3-4572-8dfc-3fcf6278e948",
   "metadata": {},
   "outputs": [],
   "source": [
    "a=10\n",
    "a"
   ]
  },
  {
   "cell_type": "code",
   "execution_count": null,
   "id": "c52c376e-4963-46a3-9114-0c9b13e85ec8",
   "metadata": {},
   "outputs": [],
   "source": [
    "a=30\n",
    "a"
   ]
  },
  {
   "cell_type": "code",
   "execution_count": null,
   "id": "5af5fd03-a286-42f7-a420-0c2a4d2c63cf",
   "metadata": {},
   "outputs": [],
   "source": []
  }
 ],
 "metadata": {
  "kernelspec": {
   "display_name": "Python 3 (ipykernel)",
   "language": "python",
   "name": "python3"
  },
  "language_info": {
   "codemirror_mode": {
    "name": "ipython",
    "version": 3
   },
   "file_extension": ".py",
   "mimetype": "text/x-python",
   "name": "python",
   "nbconvert_exporter": "python",
   "pygments_lexer": "ipython3",
   "version": "3.10.8"
  }
 },
 "nbformat": 4,
 "nbformat_minor": 5
}
