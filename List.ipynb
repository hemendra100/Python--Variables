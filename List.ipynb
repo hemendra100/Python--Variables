{
 "cells": [
  {
   "cell_type": "code",
   "execution_count": 1,
   "id": "b4d71a9e-ea6f-4097-abc6-c8dfe600593e",
   "metadata": {},
   "outputs": [],
   "source": [
    "e1=[]"
   ]
  },
  {
   "cell_type": "code",
   "execution_count": 2,
   "id": "8b3e2fbd-deb8-4995-8c15-d41d0a1a3d30",
   "metadata": {},
   "outputs": [],
   "source": [
    "e1.append(\"hemendra\")"
   ]
  },
  {
   "cell_type": "code",
   "execution_count": 3,
   "id": "e925cfef-8ecf-46e3-954d-134fd0dcdcef",
   "metadata": {},
   "outputs": [
    {
     "data": {
      "text/plain": [
       "['hemendra']"
      ]
     },
     "execution_count": 3,
     "metadata": {},
     "output_type": "execute_result"
    }
   ],
   "source": [
    "e1"
   ]
  },
  {
   "cell_type": "code",
   "execution_count": 4,
   "id": "64c78b42-1146-4b87-b8ff-cbac449e34e7",
   "metadata": {},
   "outputs": [
    {
     "ename": "NameError",
     "evalue": "name 'h' is not defined",
     "output_type": "error",
     "traceback": [
      "\u001b[0;31m---------------------------------------------------------------------------\u001b[0m",
      "\u001b[0;31mNameError\u001b[0m                                 Traceback (most recent call last)",
      "Cell \u001b[0;32mIn[4], line 1\u001b[0m\n\u001b[0;32m----> 1\u001b[0m mylist\u001b[38;5;241m=\u001b[39m[\u001b[43mh\u001b[49m,e,m,e,n,d,r,a]\n",
      "\u001b[0;31mNameError\u001b[0m: name 'h' is not defined"
     ]
    }
   ],
   "source": [
    "mylist=[h,e,m,e,n,d,r,a]"
   ]
  },
  {
   "cell_type": "code",
   "execution_count": 5,
   "id": "36dcce39-b005-450b-9515-f2ec45de6458",
   "metadata": {},
   "outputs": [],
   "source": [
    "mylist=['h','e','m','u']"
   ]
  },
  {
   "cell_type": "code",
   "execution_count": 6,
   "id": "5534f564-b7c9-41f9-a576-70241b40ae95",
   "metadata": {},
   "outputs": [
    {
     "data": {
      "text/plain": [
       "['h', 'e', 'm', 'u']"
      ]
     },
     "execution_count": 6,
     "metadata": {},
     "output_type": "execute_result"
    }
   ],
   "source": [
    "mylist"
   ]
  },
  {
   "cell_type": "code",
   "execution_count": 7,
   "id": "84ad5e16-61ca-4994-8d13-f6136848e48f",
   "metadata": {},
   "outputs": [
    {
     "ename": "TypeError",
     "evalue": "'list' object is not callable",
     "output_type": "error",
     "traceback": [
      "\u001b[0;31m---------------------------------------------------------------------------\u001b[0m",
      "\u001b[0;31mTypeError\u001b[0m                                 Traceback (most recent call last)",
      "Cell \u001b[0;32mIn[7], line 1\u001b[0m\n\u001b[0;32m----> 1\u001b[0m \u001b[43mmylist\u001b[49m\u001b[43m(\u001b[49m\u001b[38;5;241;43m3\u001b[39;49m\u001b[43m)\u001b[49m\n",
      "\u001b[0;31mTypeError\u001b[0m: 'list' object is not callable"
     ]
    }
   ],
   "source": [
    "mylist(3)"
   ]
  },
  {
   "cell_type": "code",
   "execution_count": 8,
   "id": "395ddc61-8adf-420d-8022-57bb60376b32",
   "metadata": {},
   "outputs": [
    {
     "data": {
      "text/plain": [
       "'h'"
      ]
     },
     "execution_count": 8,
     "metadata": {},
     "output_type": "execute_result"
    }
   ],
   "source": [
    "mylist[0]"
   ]
  },
  {
   "cell_type": "code",
   "execution_count": 9,
   "id": "d2f46994-1e27-4c02-95cc-62914e580e5d",
   "metadata": {},
   "outputs": [
    {
     "ename": "TypeError",
     "evalue": "'builtin_function_or_method' object is not subscriptable",
     "output_type": "error",
     "traceback": [
      "\u001b[0;31m---------------------------------------------------------------------------\u001b[0m",
      "\u001b[0;31mTypeError\u001b[0m                                 Traceback (most recent call last)",
      "Cell \u001b[0;32mIn[9], line 1\u001b[0m\n\u001b[0;32m----> 1\u001b[0m \u001b[38;5;28;43mlen\u001b[39;49m\u001b[43m[\u001b[49m\u001b[43mmylist\u001b[49m\u001b[43m]\u001b[49m\n",
      "\u001b[0;31mTypeError\u001b[0m: 'builtin_function_or_method' object is not subscriptable"
     ]
    }
   ],
   "source": [
    "len[mylist]"
   ]
  },
  {
   "cell_type": "code",
   "execution_count": 10,
   "id": "b85b6163-6e97-4391-af65-a7aece98d85d",
   "metadata": {},
   "outputs": [
    {
     "data": {
      "text/plain": [
       "4"
      ]
     },
     "execution_count": 10,
     "metadata": {},
     "output_type": "execute_result"
    }
   ],
   "source": [
    "len(mylist)"
   ]
  },
  {
   "cell_type": "code",
   "execution_count": 11,
   "id": "98c13647-f1b9-4bff-be06-8a1ccab3fb6b",
   "metadata": {},
   "outputs": [
    {
     "data": {
      "text/plain": [
       "'u'"
      ]
     },
     "execution_count": 11,
     "metadata": {},
     "output_type": "execute_result"
    }
   ],
   "source": [
    "mylist[len(mylist)-1]"
   ]
  },
  {
   "cell_type": "code",
   "execution_count": 12,
   "id": "71a98fec-981b-4bf4-9289-f723b5e7a1b3",
   "metadata": {},
   "outputs": [
    {
     "ename": "NameError",
     "evalue": "name 'reverse' is not defined",
     "output_type": "error",
     "traceback": [
      "\u001b[0;31m---------------------------------------------------------------------------\u001b[0m",
      "\u001b[0;31mNameError\u001b[0m                                 Traceback (most recent call last)",
      "Cell \u001b[0;32mIn[12], line 1\u001b[0m\n\u001b[0;32m----> 1\u001b[0m \u001b[43mreverse\u001b[49m(mylist)\n",
      "\u001b[0;31mNameError\u001b[0m: name 'reverse' is not defined"
     ]
    }
   ],
   "source": [
    "reverse(mylist)"
   ]
  },
  {
   "cell_type": "code",
   "execution_count": 16,
   "id": "1b4317eb-dceb-46e3-adb5-8087c8bb50af",
   "metadata": {},
   "outputs": [],
   "source": [
    "mylist.reverse()"
   ]
  },
  {
   "cell_type": "code",
   "execution_count": 17,
   "id": "98fe308d-9026-473d-9f0c-23d5308c4611",
   "metadata": {},
   "outputs": [
    {
     "data": {
      "text/plain": [
       "['u', 'm', 'e', 'h']"
      ]
     },
     "execution_count": 17,
     "metadata": {},
     "output_type": "execute_result"
    }
   ],
   "source": [
    "mylist"
   ]
  },
  {
   "cell_type": "code",
   "execution_count": 18,
   "id": "a2411479-7386-414c-85af-cd5e38d95b8a",
   "metadata": {},
   "outputs": [],
   "source": [
    "mylist.sort()"
   ]
  },
  {
   "cell_type": "code",
   "execution_count": 19,
   "id": "23d194ba-b80d-4d2e-a2cb-1be529cbce72",
   "metadata": {},
   "outputs": [
    {
     "data": {
      "text/plain": [
       "['e', 'h', 'm', 'u']"
      ]
     },
     "execution_count": 19,
     "metadata": {},
     "output_type": "execute_result"
    }
   ],
   "source": [
    "mylist"
   ]
  },
  {
   "cell_type": "code",
   "execution_count": 20,
   "id": "cd0b4514-43a9-47d6-97bb-b696c42e99d9",
   "metadata": {},
   "outputs": [],
   "source": [
    "movie=['lagan','3 idiots','lamhe']"
   ]
  },
  {
   "cell_type": "code",
   "execution_count": 21,
   "id": "028e8b03-b7fc-4adf-b088-aaba83a7fd2e",
   "metadata": {},
   "outputs": [
    {
     "ename": "SyntaxError",
     "evalue": "invalid syntax (3714793402.py, line 1)",
     "output_type": "error",
     "traceback": [
      "\u001b[0;36m  Cell \u001b[0;32mIn[21], line 1\u001b[0;36m\u001b[0m\n\u001b[0;31m    print(\"The second movie is\") movie[1]\u001b[0m\n\u001b[0m                                 ^\u001b[0m\n\u001b[0;31mSyntaxError\u001b[0m\u001b[0;31m:\u001b[0m invalid syntax\n"
     ]
    }
   ],
   "source": [
    "print(\"The second movie is\") movie[1]"
   ]
  },
  {
   "cell_type": "code",
   "execution_count": 22,
   "id": "c76b2969-06cf-4c21-8e42-f6c3727dda56",
   "metadata": {},
   "outputs": [
    {
     "ename": "TypeError",
     "evalue": "'builtin_function_or_method' object is not subscriptable",
     "output_type": "error",
     "traceback": [
      "\u001b[0;31m---------------------------------------------------------------------------\u001b[0m",
      "\u001b[0;31mTypeError\u001b[0m                                 Traceback (most recent call last)",
      "Cell \u001b[0;32mIn[22], line 1\u001b[0m\n\u001b[0;32m----> 1\u001b[0m \u001b[38;5;28;43mprint\u001b[39;49m\u001b[43m[\u001b[49m\u001b[43mmovie\u001b[49m\u001b[43m[\u001b[49m\u001b[38;5;241;43m1\u001b[39;49m\u001b[43m]\u001b[49m\u001b[43m]\u001b[49m\n",
      "\u001b[0;31mTypeError\u001b[0m: 'builtin_function_or_method' object is not subscriptable"
     ]
    }
   ],
   "source": [
    "print[movie[1]]"
   ]
  },
  {
   "cell_type": "code",
   "execution_count": 23,
   "id": "f150a824-4cb6-451b-926b-4a04662093a8",
   "metadata": {},
   "outputs": [
    {
     "data": {
      "text/plain": [
       "'3 idiots'"
      ]
     },
     "execution_count": 23,
     "metadata": {},
     "output_type": "execute_result"
    }
   ],
   "source": [
    "movie[1]"
   ]
  },
  {
   "cell_type": "code",
   "execution_count": 24,
   "id": "cfd316cf-c503-40dc-a279-21f96b59a5ae",
   "metadata": {},
   "outputs": [],
   "source": [
    "myanimals=['dog','cat','lion']"
   ]
  },
  {
   "cell_type": "code",
   "execution_count": 25,
   "id": "0f9dc4c8-0208-46a2-b9a4-48e3e827e93f",
   "metadata": {},
   "outputs": [],
   "source": [
    "myanimals.append('tiger')"
   ]
  },
  {
   "cell_type": "code",
   "execution_count": 26,
   "id": "d98aa41f-7099-4c0e-9d21-2eaac307607e",
   "metadata": {},
   "outputs": [
    {
     "data": {
      "text/plain": [
       "['dog', 'cat', 'lion', 'tiger']"
      ]
     },
     "execution_count": 26,
     "metadata": {},
     "output_type": "execute_result"
    }
   ],
   "source": [
    "myanimals"
   ]
  },
  {
   "cell_type": "code",
   "execution_count": 27,
   "id": "38475eeb-0668-4fc9-9788-80324f3d6ae5",
   "metadata": {},
   "outputs": [],
   "source": [
    "mycities=['lko','del','mum']"
   ]
  },
  {
   "cell_type": "code",
   "execution_count": 28,
   "id": "97dfe2da-9292-49b1-931e-e5b24a348c3e",
   "metadata": {},
   "outputs": [
    {
     "data": {
      "text/plain": [
       "1"
      ]
     },
     "execution_count": 28,
     "metadata": {},
     "output_type": "execute_result"
    }
   ],
   "source": [
    "mycities.index('del')\n"
   ]
  },
  {
   "cell_type": "code",
   "execution_count": 29,
   "id": "37beb3f6-3868-4854-9bc4-01e1ff0d072a",
   "metadata": {},
   "outputs": [
    {
     "ename": "SyntaxError",
     "evalue": "Missing parentheses in call to 'print'. Did you mean print(...)? (2310825539.py, line 1)",
     "output_type": "error",
     "traceback": [
      "\u001b[0;36m  Cell \u001b[0;32mIn[29], line 1\u001b[0;36m\u001b[0m\n\u001b[0;31m    print mycities[1]\u001b[0m\n\u001b[0m    ^\u001b[0m\n\u001b[0;31mSyntaxError\u001b[0m\u001b[0;31m:\u001b[0m Missing parentheses in call to 'print'. Did you mean print(...)?\n"
     ]
    }
   ],
   "source": [
    "print mycities[1]"
   ]
  },
  {
   "cell_type": "code",
   "execution_count": 30,
   "id": "44b358c7-a799-44f1-9a9a-8594a8f7d424",
   "metadata": {},
   "outputs": [
    {
     "ename": "TypeError",
     "evalue": "'builtin_function_or_method' object is not subscriptable",
     "output_type": "error",
     "traceback": [
      "\u001b[0;31m---------------------------------------------------------------------------\u001b[0m",
      "\u001b[0;31mTypeError\u001b[0m                                 Traceback (most recent call last)",
      "Cell \u001b[0;32mIn[30], line 1\u001b[0m\n\u001b[0;32m----> 1\u001b[0m \u001b[38;5;28;43mprint\u001b[39;49m\u001b[43m[\u001b[49m\u001b[43mmycities\u001b[49m\u001b[43m[\u001b[49m\u001b[38;5;241;43m1\u001b[39;49m\u001b[43m]\u001b[49m\u001b[43m]\u001b[49m\n",
      "\u001b[0;31mTypeError\u001b[0m: 'builtin_function_or_method' object is not subscriptable"
     ]
    }
   ],
   "source": [
    "print[mycities[1]]"
   ]
  },
  {
   "cell_type": "code",
   "execution_count": null,
   "id": "a7ff0870-e2a6-47d7-a38e-60f6fb03f1cb",
   "metadata": {},
   "outputs": [],
   "source": []
  }
 ],
 "metadata": {
  "kernelspec": {
   "display_name": "Python 3 (ipykernel)",
   "language": "python",
   "name": "python3"
  },
  "language_info": {
   "codemirror_mode": {
    "name": "ipython",
    "version": 3
   },
   "file_extension": ".py",
   "mimetype": "text/x-python",
   "name": "python",
   "nbconvert_exporter": "python",
   "pygments_lexer": "ipython3",
   "version": "3.10.8"
  }
 },
 "nbformat": 4,
 "nbformat_minor": 5
}
